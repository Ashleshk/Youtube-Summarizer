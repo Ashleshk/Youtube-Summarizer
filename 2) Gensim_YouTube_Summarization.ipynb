{
  "cells": [
    {
      "cell_type": "markdown",
      "metadata": {
        "id": "gCRs5VR2uMjT"
      },
      "source": [
        "# Gensim Summarization"
      ]
    },
    {
      "cell_type": "code",
      "execution_count": 2,
      "metadata": {
        "id": "F5chLz2Orhdv"
      },
      "outputs": [
        {
          "ename": "ModuleNotFoundError",
          "evalue": "No module named 'gensim'",
          "output_type": "error",
          "traceback": [
            "\u001b[0;31m---------------------------------------------------------------------------\u001b[0m",
            "\u001b[0;31mModuleNotFoundError\u001b[0m                       Traceback (most recent call last)",
            "Cell \u001b[0;32mIn[2], line 2\u001b[0m\n\u001b[1;32m      1\u001b[0m \u001b[38;5;66;03m# Import\u001b[39;00m\n\u001b[0;32m----> 2\u001b[0m \u001b[38;5;28;01mfrom\u001b[39;00m \u001b[38;5;21;01mgensim\u001b[39;00m\u001b[38;5;21;01m.\u001b[39;00m\u001b[38;5;21;01msummarization\u001b[39;00m\u001b[38;5;21;01m.\u001b[39;00m\u001b[38;5;21;01msummarizer\u001b[39;00m \u001b[38;5;28;01mimport\u001b[39;00m summarize\n",
            "\u001b[0;31mModuleNotFoundError\u001b[0m: No module named 'gensim'"
          ]
        }
      ],
      "source": [
        "# Import\n",
        "from gensim.summarization.summarizer import summarize"
      ]
    },
    {
      "cell_type": "code",
      "execution_count": null,
      "metadata": {
        "id": "aLZ98HXipzOw"
      },
      "outputs": [],
      "source": [
        "# Make Function\n",
        "def gensim_summarize(text_content, percent):\n",
        "    # TextRank Summarization using Gensim Library.\n",
        "    # Split is false, gensim return strings joined by \"\\n\". if true, gensim will return list\n",
        "    summary = summarize(text_content, ratio=(int(percent) / 100), split=False).replace(\"\\n\", \" \")\n",
        "\n",
        "    # Returning NLTK Summarization Output\n",
        "    return summary\n"
      ]
    },
    {
      "cell_type": "code",
      "execution_count": null,
      "metadata": {
        "id": "lGC_VbWgrpSF"
      },
      "outputs": [],
      "source": [
        "# Sample Paragraph\n",
        "a = '''Ukraine and Russia made tentative progress in talks Monday but failed to reach a deal on creating \"humanitarian corridors\" from pummelled cities, as the bloodshed from Moscow's invasion mounted.\n",
        "Kyiv said there had been \"positive results\" from the third round of negotiations, focused on giving civilians evacuation routes from besieged towns, but Russia said its expectations from the talks were \"not fulfilled\".\n",
        "\n",
        "Ukraine today accepted Russia's proposal of setting up humanitarian corridors.\n",
        "\n",
        "Russian President Vladimir Putin said he is not sending conscripts or reservists to fight and that \"professional\" soldiers fulfilling \"fixed objectives\" are leading the war in Ukraine.\n",
        "\n",
        "Ukraine's President Volodymyr Zelensky renewed calls for the West to boycott Russian exports, particularly oil, and to impose a no-fly zone to stop the carnage.\n",
        "\n",
        "More than 1.7 million people have fled Ukraine since Russia launched its full-scale invasion on February 24.'''"
      ]
    },
    {
      "cell_type": "code",
      "execution_count": null,
      "metadata": {
        "colab": {
          "base_uri": "https://localhost:8080/",
          "height": 74
        },
        "id": "GH5lgAzqtBRL",
        "outputId": "08bfa54a-c10b-45db-f76e-9ebdd58f611f"
      },
      "outputs": [
        {
          "data": {
            "application/vnd.google.colaboratory.intrinsic+json": {
              "type": "string"
            },
            "text/plain": [
              "'Ukraine and Russia made tentative progress in talks Monday but failed to reach a deal on creating \"humanitarian corridors\" from pummelled cities, as the bloodshed from Moscow\\'s invasion mounted. Ukraine today accepted Russia\\'s proposal of setting up humanitarian corridors. More than 1.7 million people have fled Ukraine since Russia launched its full-scale invasion on February 24.'"
            ]
          },
          "execution_count": 9,
          "metadata": {},
          "output_type": "execute_result"
        }
      ],
      "source": [
        "# Printing Output\n",
        "gensim_summarize(a, 50)"
      ]
    },
    {
      "cell_type": "code",
      "execution_count": null,
      "metadata": {
        "id": "ZTNdUgistJA4"
      },
      "outputs": [],
      "source": []
    }
  ],
  "metadata": {
    "colab": {
      "name": "2) Gensim.ipynb",
      "provenance": []
    },
    "kernelspec": {
      "display_name": "Python 3",
      "name": "python3"
    },
    "language_info": {
      "codemirror_mode": {
        "name": "ipython",
        "version": 3
      },
      "file_extension": ".py",
      "mimetype": "text/x-python",
      "name": "python",
      "nbconvert_exporter": "python",
      "pygments_lexer": "ipython3",
      "version": "3.8.16"
    }
  },
  "nbformat": 4,
  "nbformat_minor": 0
}
